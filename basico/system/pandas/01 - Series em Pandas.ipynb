{
 "cells": [
  {
   "cell_type": "markdown",
   "id": "300f94b7",
   "metadata": {},
   "source": [
    "## Series"
   ]
  },
  {
   "cell_type": "markdown",
   "id": "7cd154a3",
   "metadata": {},
   "source": [
    "### Semelhante a matrizes do NumPy porém com rótulos nos eixos."
   ]
  },
  {
   "cell_type": "code",
   "execution_count": 1,
   "id": "bff48a04",
   "metadata": {},
   "outputs": [],
   "source": [
    "import numpy as np"
   ]
  },
  {
   "cell_type": "code",
   "execution_count": 2,
   "id": "c29ab96e",
   "metadata": {},
   "outputs": [],
   "source": [
    "import pandas as pd"
   ]
  },
  {
   "cell_type": "markdown",
   "id": "56674a8e",
   "metadata": {},
   "source": [
    "#### Criando series"
   ]
  },
  {
   "cell_type": "code",
   "execution_count": 6,
   "id": "14d0277f",
   "metadata": {},
   "outputs": [],
   "source": [
    "lista1 = ['a', 'b', 'c']\n",
    "lista2 = [1, 2, 3]\n",
    "arr = np.array([10, 20, 30,])\n",
    "d = {'a': 100, 'b': 200, 'c': 300}"
   ]
  },
  {
   "cell_type": "code",
   "execution_count": 7,
   "id": "3ec2d547",
   "metadata": {},
   "outputs": [
    {
     "data": {
      "text/plain": [
       "a    1\n",
       "b    2\n",
       "c    3\n",
       "dtype: int64"
      ]
     },
     "execution_count": 7,
     "metadata": {},
     "output_type": "execute_result"
    }
   ],
   "source": [
    "pd.Series(data = lista2, index = lista1)"
   ]
  },
  {
   "cell_type": "code",
   "execution_count": 9,
   "id": "5e983429",
   "metadata": {},
   "outputs": [
    {
     "data": {
      "text/plain": [
       "a    1\n",
       "b    2\n",
       "c    3\n",
       "dtype: int64"
      ]
     },
     "execution_count": 9,
     "metadata": {},
     "output_type": "execute_result"
    }
   ],
   "source": [
    "pd.Series(lista2, lista1)"
   ]
  },
  {
   "cell_type": "code",
   "execution_count": 10,
   "id": "7b72a1ac",
   "metadata": {},
   "outputs": [
    {
     "data": {
      "text/plain": [
       "0    10\n",
       "1    20\n",
       "2    30\n",
       "dtype: int32"
      ]
     },
     "execution_count": 10,
     "metadata": {},
     "output_type": "execute_result"
    }
   ],
   "source": [
    "pd.Series(arr)"
   ]
  },
  {
   "cell_type": "code",
   "execution_count": 11,
   "id": "54948b70",
   "metadata": {},
   "outputs": [
    {
     "data": {
      "text/plain": [
       "a    10\n",
       "b    20\n",
       "c    30\n",
       "dtype: int32"
      ]
     },
     "execution_count": 11,
     "metadata": {},
     "output_type": "execute_result"
    }
   ],
   "source": [
    "pd.Series(arr, lista1)"
   ]
  },
  {
   "cell_type": "code",
   "execution_count": 12,
   "id": "96cbbb31",
   "metadata": {},
   "outputs": [
    {
     "data": {
      "text/plain": [
       "a    100\n",
       "b    200\n",
       "c    300\n",
       "dtype: int64"
      ]
     },
     "execution_count": 12,
     "metadata": {},
     "output_type": "execute_result"
    }
   ],
   "source": [
    "pd.Series(d)"
   ]
  },
  {
   "cell_type": "markdown",
   "id": "9d24e4e8",
   "metadata": {},
   "source": [
    "#### Utilizando índices"
   ]
  },
  {
   "cell_type": "code",
   "execution_count": 22,
   "id": "3f7388f6",
   "metadata": {},
   "outputs": [],
   "source": [
    "serie1 = pd.Series([1, 2, 3, 4], ['João', 'Maria', 'Pedro', 'Carlos'])"
   ]
  },
  {
   "cell_type": "code",
   "execution_count": 15,
   "id": "1d9a1a6e",
   "metadata": {},
   "outputs": [
    {
     "data": {
      "text/plain": [
       "João      1\n",
       "Maria     2\n",
       "Pedro     3\n",
       "Carlos    4\n",
       "dtype: int64"
      ]
     },
     "execution_count": 15,
     "metadata": {},
     "output_type": "execute_result"
    }
   ],
   "source": [
    "serie1"
   ]
  },
  {
   "cell_type": "code",
   "execution_count": 17,
   "id": "e1a6802b",
   "metadata": {},
   "outputs": [],
   "source": [
    "serie2 = pd.Series([1, 2, 5, 6], ['Pedro', 'Roberto', 'João', 'Carlos'])"
   ]
  },
  {
   "cell_type": "code",
   "execution_count": 18,
   "id": "a6ab0437",
   "metadata": {},
   "outputs": [
    {
     "data": {
      "text/plain": [
       "Pedro      1\n",
       "Roberto    2\n",
       "João       5\n",
       "Carlos     6\n",
       "dtype: int64"
      ]
     },
     "execution_count": 18,
     "metadata": {},
     "output_type": "execute_result"
    }
   ],
   "source": [
    "serie2"
   ]
  },
  {
   "cell_type": "code",
   "execution_count": 23,
   "id": "bcd183f3",
   "metadata": {},
   "outputs": [
    {
     "data": {
      "text/plain": [
       "1"
      ]
     },
     "execution_count": 23,
     "metadata": {},
     "output_type": "execute_result"
    }
   ],
   "source": [
    "serie1['João']"
   ]
  },
  {
   "cell_type": "code",
   "execution_count": 21,
   "id": "7465816e",
   "metadata": {},
   "outputs": [
    {
     "data": {
      "text/plain": [
       "2"
      ]
     },
     "execution_count": 21,
     "metadata": {},
     "output_type": "execute_result"
    }
   ],
   "source": [
    "serie2['Roberto']"
   ]
  },
  {
   "cell_type": "code",
   "execution_count": null,
   "id": "274b373e",
   "metadata": {},
   "outputs": [
    {
     "ename": "",
     "evalue": "",
     "output_type": "error",
     "traceback": [
      "\u001b[1;31mRunning cells with 'c:\\Users\\Emanuel.TMONKEY\\AppData\\Local\\Programs\\Python\\Python311\\python.exe' requires the ipykernel package.\n",
      "\u001b[1;31mRun the following command to install 'ipykernel' into the Python environment. \n",
      "\u001b[1;31mCommand: 'c:/Users/Emanuel.TMONKEY/AppData/Local/Programs/Python/Python311/python.exe -m pip install ipykernel -U --user --force-reinstall'"
     ]
    }
   ],
   "source": [
    "serie1 + serie2"
   ]
  },
  {
   "cell_type": "code",
   "execution_count": null,
   "id": "7eae82fd",
   "metadata": {},
   "outputs": [],
   "source": []
  }
 ],
 "metadata": {
  "kernelspec": {
   "display_name": "Python 3 (ipykernel)",
   "language": "python",
   "name": "python3"
  },
  "language_info": {
   "codemirror_mode": {
    "name": "ipython",
    "version": 3
   },
   "file_extension": ".py",
   "mimetype": "text/x-python",
   "name": "python",
   "nbconvert_exporter": "python",
   "pygments_lexer": "ipython3",
   "version": "3.11.3"
  }
 },
 "nbformat": 4,
 "nbformat_minor": 5
}
