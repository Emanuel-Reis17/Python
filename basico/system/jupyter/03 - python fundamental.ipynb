{
 "cells": [
  {
   "cell_type": "markdown",
   "id": "fe5f3ad9",
   "metadata": {},
   "source": [
    "### For"
   ]
  },
  {
   "cell_type": "code",
   "execution_count": 1,
   "id": "c4a855d1",
   "metadata": {},
   "outputs": [],
   "source": [
    "lista = [1, 2, 3, 4, 5, 6, 7, 8, 9]"
   ]
  },
  {
   "cell_type": "code",
   "execution_count": 9,
   "id": "0525baea",
   "metadata": {},
   "outputs": [
    {
     "data": {
      "text/plain": [
       "[1, 2, 3, 5, 6, 7, 8, 9]"
      ]
     },
     "execution_count": 9,
     "metadata": {},
     "output_type": "execute_result"
    }
   ],
   "source": [
    "lista"
   ]
  },
  {
   "cell_type": "code",
   "execution_count": 4,
   "id": "6ce94c4d",
   "metadata": {},
   "outputs": [
    {
     "name": "stdout",
     "output_type": "stream",
     "text": [
      "1\n",
      "2\n",
      "3\n",
      "5\n",
      "6\n",
      "7\n",
      "8\n",
      "9\n"
     ]
    }
   ],
   "source": [
    "for item in lista:\n",
    "    print(item)"
   ]
  },
  {
   "cell_type": "code",
   "execution_count": 6,
   "id": "60c17103",
   "metadata": {},
   "outputs": [
    {
     "name": "stdout",
     "output_type": "stream",
     "text": [
      "Item:  1\n",
      "Item:  2\n",
      "Item:  3\n",
      "Item:  5\n",
      "Item:  6\n",
      "Item:  7\n",
      "Item:  8\n",
      "Item:  9\n"
     ]
    }
   ],
   "source": [
    "for item in lista:\n",
    "    print('Item: ', item)"
   ]
  },
  {
   "cell_type": "code",
   "execution_count": 7,
   "id": "15aa8888",
   "metadata": {},
   "outputs": [],
   "source": [
    "lista2 = []"
   ]
  },
  {
   "cell_type": "code",
   "execution_count": 8,
   "id": "45fb77d7",
   "metadata": {},
   "outputs": [
    {
     "data": {
      "text/plain": [
       "[1, 4, 9, 25, 36, 49, 64, 81]"
      ]
     },
     "execution_count": 8,
     "metadata": {},
     "output_type": "execute_result"
    }
   ],
   "source": [
    "for item in lista:\n",
    "    lista2.append(item**2)\n",
    "lista2"
   ]
  },
  {
   "cell_type": "code",
   "execution_count": 10,
   "id": "f61c7432",
   "metadata": {},
   "outputs": [],
   "source": [
    "i = 1"
   ]
  },
  {
   "cell_type": "code",
   "execution_count": 12,
   "id": "4e3f09db",
   "metadata": {},
   "outputs": [
    {
     "name": "stdout",
     "output_type": "stream",
     "text": [
      "i igual:  1\n",
      "i igual:  2\n",
      "i igual:  3\n",
      "i igual:  4\n"
     ]
    }
   ],
   "source": [
    "while i < 5:\n",
    "    print('i igual: ', i)\n",
    "    i += 1"
   ]
  },
  {
   "cell_type": "markdown",
   "id": "fa84c1f4",
   "metadata": {},
   "source": [
    "### List comprehensions"
   ]
  },
  {
   "cell_type": "code",
   "execution_count": 13,
   "id": "61a98128",
   "metadata": {},
   "outputs": [
    {
     "data": {
      "text/plain": [
       "[1, 4, 9, 25, 36, 49, 64, 81]"
      ]
     },
     "execution_count": 13,
     "metadata": {},
     "output_type": "execute_result"
    }
   ],
   "source": [
    "[item ** 2 for item in lista]"
   ]
  },
  {
   "cell_type": "code",
   "execution_count": 14,
   "id": "9e9ad19d",
   "metadata": {},
   "outputs": [
    {
     "data": {
      "text/plain": [
       "[4, 36, 64]"
      ]
     },
     "execution_count": 14,
     "metadata": {},
     "output_type": "execute_result"
    }
   ],
   "source": [
    "[item ** 2 for item in lista if item % 2 == 0]"
   ]
  },
  {
   "cell_type": "markdown",
   "id": "3bd40fb8",
   "metadata": {},
   "source": [
    "### Funções"
   ]
  },
  {
   "cell_type": "code",
   "execution_count": 15,
   "id": "913a5843",
   "metadata": {},
   "outputs": [],
   "source": [
    "def nome_funcao(parametros):\n",
    "    print(parametros)"
   ]
  },
  {
   "cell_type": "code",
   "execution_count": 16,
   "id": "d5fe9ebc",
   "metadata": {},
   "outputs": [
    {
     "name": "stdout",
     "output_type": "stream",
     "text": [
      "Hello World\n"
     ]
    }
   ],
   "source": [
    "nome_funcao('Hello World')"
   ]
  },
  {
   "cell_type": "code",
   "execution_count": 19,
   "id": "640a1759",
   "metadata": {},
   "outputs": [],
   "source": [
    "def nome_funcao(parametros):\n",
    "    x = parametros * parametros\n",
    "    return x"
   ]
  },
  {
   "cell_type": "code",
   "execution_count": 20,
   "id": "d355bf65",
   "metadata": {},
   "outputs": [
    {
     "data": {
      "text/plain": [
       "4"
      ]
     },
     "execution_count": 20,
     "metadata": {},
     "output_type": "execute_result"
    }
   ],
   "source": [
    "nome_funcao(2)"
   ]
  },
  {
   "cell_type": "code",
   "execution_count": null,
   "id": "15e211d0",
   "metadata": {},
   "outputs": [],
   "source": []
  }
 ],
 "metadata": {
  "kernelspec": {
   "display_name": "Python 3 (ipykernel)",
   "language": "python",
   "name": "python3"
  },
  "language_info": {
   "codemirror_mode": {
    "name": "ipython",
    "version": 3
   },
   "file_extension": ".py",
   "mimetype": "text/x-python",
   "name": "python",
   "nbconvert_exporter": "python",
   "pygments_lexer": "ipython3",
   "version": "3.11.5"
  }
 },
 "nbformat": 4,
 "nbformat_minor": 5
}
